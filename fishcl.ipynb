{
 "cells": [
  {
   "cell_type": "code",
   "execution_count": 27,
   "metadata": {},
   "outputs": [],
   "source": [
    "import random\n",
    "import sys\n",
    "import numpy as np\n",
    "import csv\n",
    "import math\n",
    "from collections import defaultdict\n",
    "from collections import OrderedDict\n",
    "import matplotlib.pyplot as plt"
   ]
  },
  {
   "cell_type": "code",
   "execution_count": 2,
   "metadata": {},
   "outputs": [],
   "source": [
    "class game():\n",
    "    def __init__(self, suits = 4):\n",
    "        self.agentHand = defaultdict(int)\n",
    "        self.compHand = defaultdict(int)\n",
    "        self.book = defaultdict(int)\n",
    "        self.count = 0\n",
    "        for i in range(1,14):\n",
    "            self.agentHand[i] = 0\n",
    "            self.compHand[i] = 0\n",
    "            self.book[i] = 0\n",
    "        self.suits = suits\n",
    "        self.deck = list(range(1,14)) * self.suits # cards as 1-13, a=1, j=11, etc\n",
    "        random.shuffle(self.deck)\n",
    "        self.score = [0,0] #agent score, computer score\n",
    "        self.stepCount = 0 # debug\n",
    "        self.deal()\n",
    "        #self.debug()\n",
    "        return\n",
    "        \n",
    "    def emptyDeck(self):\n",
    "        return len(self.deck) == 0\n",
    "        \n",
    "    def agentDraw(self):\n",
    "        if self.emptyDeck():\n",
    "            return\n",
    "        card = self.deck.pop(0)\n",
    "        self.agentHand[card] += 1\n",
    "        return card\n",
    "        \n",
    "    def compDraw(self):\n",
    "        if self.emptyDeck():\n",
    "            return\n",
    "        card = self.deck.pop(0)\n",
    "        self.compHand[card] += 1\n",
    "        return card\n",
    "        \n",
    "    def agentHas(self, card): # check if agent has card\n",
    "        return self.agentHand[card] != 0\n",
    "    \n",
    "    def compHas(self, card): # check if agent has card\n",
    "        return self.compHand[card] != 0\n",
    "        \n",
    "    def agentSteal(self, card): # agent take computer card\n",
    "        #print(\"steal\", self.compHand[card])\n",
    "        self.agentHand[card] += self.compHand[card]\n",
    "        self.compHand[card] = 0\n",
    "        #print(self.agentHand[card],self.compHand[card])\n",
    "        return\n",
    "        \n",
    "    def compSteal(self, card): # computer take agent card\n",
    "        self.compHand[card] += self.agentHand[card]\n",
    "        self.agentHand[card] = 0\n",
    "        return\n",
    "        \n",
    "    def agentBook(self, card): # check if agent scores\n",
    "        if self.agentHand[card] == 4:\n",
    "            self.book[card] += 1\n",
    "            self.agentHand[card] = 0\n",
    "            self.score[0] += 1\n",
    "            return True\n",
    "        return False\n",
    "    \n",
    "    def compBook(self, card): # check if computer scores\n",
    "        if self.compHand[card] == 4:\n",
    "            self.book[card] += 1\n",
    "            self.compHand[card] = 0\n",
    "            self.score[1] += 1\n",
    "            return True\n",
    "        return False\n",
    "            \n",
    "    def agentEmpty(self):\n",
    "        return sum(self.agentHand.values()) == 0\n",
    "    \n",
    "    def compEmpty(self):\n",
    "        return sum(self.compHand.values()) == 0\n",
    "    \n",
    "    def gameOver(self):\n",
    "        return sum(self.score) == 13\n",
    "    \n",
    "    def deal(self): # start of game each player gets 7 cards\n",
    "        for i in range(7):\n",
    "            self.agentDraw()\n",
    "            self.compDraw()\n",
    "        return\n",
    "    \n",
    "    def agentAct(self):\n",
    "        return\n",
    "    \n",
    "    def compAct(self):\n",
    "        options = [x for x in self.book if self.book[x] == 0]\n",
    "        if options == []:\n",
    "            options = [1]\n",
    "        return random.choice(options)\n",
    "        \n",
    "    def step(self, action = None):\n",
    "        # state / action\n",
    "        # states are known info\n",
    "        # agent cards, completed books, remaining deck, amount of \n",
    "        # computer cards, \n",
    "        self.count += 1\n",
    "        if self.count >= 1000:\n",
    "            self.reset()\n",
    "        temp = 0\n",
    "        #print(\"agentTurn\") # debug\n",
    "        while(True): # agent turn\n",
    "            if self.agentEmpty():\n",
    "                self.agentDraw()\n",
    "            agentPick = random.choice(range(1,14))\n",
    "            if action is not None:\n",
    "                agentPick = action # agent action to select number\n",
    "            #print(agentPick)\n",
    "            if self.compHas(agentPick):\n",
    "                temp += 1\n",
    "                self.agentSteal(agentPick)\n",
    "                self.agentBook(agentPick)\n",
    "            else:\n",
    "                if temp == 0:\n",
    "                    self.agentBook(self.agentDraw())\n",
    "                break\n",
    "        temp = 0\n",
    "        if self.gameOver():\n",
    "            #self.debug()\n",
    "            return\n",
    "        #print(\"compTurn\") # debug\n",
    "        while(True): # computer turn\n",
    "            if self.compEmpty():\n",
    "                self.compDraw()\n",
    "            compPick = self.compAct() \n",
    "            #print(compPick)\n",
    "            if self.agentHas(compPick):\n",
    "                temp += 1\n",
    "                self.compSteal(compPick)\n",
    "                self.compBook(compPick)\n",
    "            else:\n",
    "                if temp == 0:\n",
    "                    self.compBook(self.compDraw())\n",
    "                break\n",
    "        #self.debug()\n",
    "        self.stepCount += 1\n",
    "        return\n",
    "    \n",
    "    def reward(self):\n",
    "        if not self.gameOver():\n",
    "            return 0\n",
    "        if self.score[0] > self.score[1]:\n",
    "            return 1\n",
    "        return -1\n",
    "    \n",
    "    def debug(self):\n",
    "        print(\"step count\", self.stepCount)\n",
    "        print(\"aHand\", self.agentHand)\n",
    "        print(\"cHand\", self.compHand)\n",
    "        print(\"deck remaining\", len(self.deck))\n",
    "        print(\"book\", self.book)\n",
    "        print(\"score\", self.score)\n",
    "        \n",
    "    def reset(self):\n",
    "        self.agentHand = defaultdict(int)\n",
    "        self.compHand = defaultdict(int)\n",
    "        self.book = defaultdict(int)\n",
    "        self.count = 0\n",
    "        for i in range(1,14):\n",
    "            self.agentHand[i] = 0\n",
    "            self.compHand[i] = 0\n",
    "            self.book[i] = 0\n",
    "        self.deck = list(range(1,14)) * self.suits # cards as 1-13, a=1, j=11, etc\n",
    "        random.shuffle(self.deck)\n",
    "        self.score = [0,0] #agent score, computer score\n",
    "        self.stepCount = 0 # debug\n",
    "        self.deal()\n",
    "        #self.debug()\n",
    "        return"
   ]
  },
  {
   "cell_type": "code",
   "execution_count": 3,
   "metadata": {},
   "outputs": [
    {
     "data": {
      "text/plain": [
       "[4.043, 4.105, 4.042, 4.077, 4.017, 3.921, 4.029, 3.994, 3.941, 3.984]"
      ]
     },
     "execution_count": 3,
     "metadata": {},
     "output_type": "execute_result"
    }
   ],
   "source": [
    "#test \n",
    "scores = []\n",
    "for j in range(10):\n",
    "    ave = 0\n",
    "    n = 1000\n",
    "    for i in range(n):\n",
    "        g = game()\n",
    "        while not g.gameOver():\n",
    "            g.step()\n",
    "        ave += g.score[0]\n",
    "    scores.append(ave/n)\n",
    "scores"
   ]
  },
  {
   "cell_type": "code",
   "execution_count": 4,
   "metadata": {},
   "outputs": [],
   "source": [
    "def getProbs(qState, epsilon, nA):\n",
    "    # qState = array of action valule functions for states\n",
    "    # epsilon = equiprobable random & 1-epsilon = greedy policy\n",
    "    # nA = number of actions\n",
    "    #init w/ prob for non greedy actions b \n",
    "    probs = np.ones(nA) * epsilon/nA\n",
    "    greedy_action = np.argmax(qState)\n",
    "    if np.count_nonzero(qState == qState[greedy_action]) > 1:\n",
    "        return np.ones(nA)/nA\n",
    "    probs[greedy_action] = 1 - epsilon + epsilon/nA\n",
    "    return probs\n",
    "    #probs = np.zeros((2,13)) # 2 rows per whether card in book or not, and 13 per card"
   ]
  },
  {
   "cell_type": "code",
   "execution_count": 5,
   "metadata": {},
   "outputs": [],
   "source": [
    "def stateBinBook(game):\n",
    "    return int(\"\".join([str(n) for n in game.book.values()]),2) # book state as binary"
   ]
  },
  {
   "cell_type": "code",
   "execution_count": 6,
   "metadata": {},
   "outputs": [],
   "source": [
    "def generateEpisode(game, Q, epsilon, nA):\n",
    "    # game env, action value table, epsilon, num actions\n",
    "    episode = []\n",
    "    game.reset()\n",
    "    state = stateBinBook(game)\n",
    "    \n",
    "    while True:\n",
    "        if state in Q:\n",
    "            action = np.random.choice(range(1,14), p = getProbs(Q[state], epsilon, nA))\n",
    "        else:\n",
    "            action = random.choice(range(1,14))\n",
    "        g.step(action)\n",
    "        nextState = stateBinBook(game)\n",
    "        reward = game.reward()\n",
    "        episode.append((state,action,reward))\n",
    "        state = nextState\n",
    "        \n",
    "        if game.gameOver():\n",
    "            break\n",
    "            \n",
    "    return episode"
   ]
  },
  {
   "cell_type": "code",
   "execution_count": 7,
   "metadata": {},
   "outputs": [],
   "source": [
    "def updateQ(game,episode,Q,alpha,gamma):\n",
    "    #\n",
    "    states,actions,rewards = zip(*episode)\n",
    "    discounts = [gamma**t for t in range(len(rewards)+1)]\n",
    "    \n",
    "    for t,state in enumerate(states):\n",
    "        oldQs = Q[state][actions[t]-1]\n",
    "        Gt = sum([x*y for x,y in zip(discounts[:-(t+1)],rewards[t:])])\n",
    "        Q[state][actions[t]-1] = oldQs + alpha*(Gt - oldQs)\n",
    "        \n",
    "    return Q"
   ]
  },
  {
   "cell_type": "code",
   "execution_count": 8,
   "metadata": {},
   "outputs": [],
   "source": [
    "def control(game, nIter, alpha, Q = None, gamma = 1.0, eps_start = 1.0, eps_decay = .99999, eps_min = 0.05):\n",
    "    #\n",
    "    nA = 13\n",
    "    if Q is None:\n",
    "        Q = defaultdict(lambda: np.zeros(nA))\n",
    "    epsilon = eps_start\n",
    "    \n",
    "    scores = []\n",
    "    \n",
    "    for i in range(nIter):\n",
    "        epsilon = max(epsilon*eps_decay, eps_min)\n",
    "        episode = generateEpisode(game,Q,epsilon,nA)\n",
    "        Q = updateQ(game,episode,Q,alpha,gamma)\n",
    "        if i % 1000 == 0:\n",
    "            scores.append((i,g.score[0]))\n",
    "            print('\\rEpisode {}/{}.'.format(i, nIter), end = \"\")\n",
    "            sys.stdout.flush()\n",
    "            \n",
    "    policy = dict((state, np.argmax(action)) for state, action in Q.items())\n",
    "    return policy, Q, scores      "
   ]
  },
  {
   "cell_type": "code",
   "execution_count": 9,
   "metadata": {},
   "outputs": [
    {
     "name": "stdout",
     "output_type": "stream",
     "text": [
      "Episode 2999000/3000000."
     ]
    }
   ],
   "source": [
    "num_episodes = 3000000\n",
    "alpha = 0.05\n",
    "g = game()\n",
    "policy, Q, scores = control(g, num_episodes, alpha)   "
   ]
  },
  {
   "cell_type": "code",
   "execution_count": 10,
   "metadata": {},
   "outputs": [
    {
     "data": {
      "text/plain": [
       "<matplotlib.collections.PathCollection at 0x29d2c2e4c48>"
      ]
     },
     "execution_count": 10,
     "metadata": {},
     "output_type": "execute_result"
    },
    {
     "data": {
      "image/png": "[encoded data removed]",
      "text/plain": [
       "<Figure size 432x288 with 1 Axes>"
      ]
     },
     "metadata": {
      "needs_background": "light"
     },
     "output_type": "display_data"
    }
   ],
   "source": [
    "xpol = []\n",
    "ypol = []\n",
    "for key, value in policy.items():\n",
    "    xpol += [value]\n",
    "    ypol += [key]\n",
    "plt.scatter(xpol,ypol)"
   ]
  },
  {
   "cell_type": "code",
   "execution_count": 11,
   "metadata": {},
   "outputs": [
    {
     "data": {
      "text/plain": [
       "<matplotlib.collections.PathCollection at 0x29d2bc2f4c8>"
      ]
     },
     "execution_count": 11,
     "metadata": {},
     "output_type": "execute_result"
    },
    {
     "data": {
      "image/png": "[encoded data removed]",
      "text/plain": [
       "<Figure size 432x288 with 1 Axes>"
      ]
     },
     "metadata": {
      "needs_background": "light"
     },
     "output_type": "display_data"
    }
   ],
   "source": [
    "xpol = []\n",
    "ypol = []\n",
    "for key, value in policy.items():\n",
    "    xpol += [value]\n",
    "    ypol += [\"{0:b}\".format(key).count(\"1\")]\n",
    "plt.scatter(xpol,ypol)"
   ]
  },
  {
   "cell_type": "code",
   "execution_count": 12,
   "metadata": {},
   "outputs": [
    {
     "data": {
      "text/plain": [
       "<matplotlib.collections.PathCollection at 0x29d2cd65108>"
      ]
     },
     "execution_count": 12,
     "metadata": {},
     "output_type": "execute_result"
    },
    {
     "data": {
      "image/png": "[encoded data removed]",
      "text/plain": [
       "<Figure size 432x288 with 1 Axes>"
      ]
     },
     "metadata": {
      "needs_background": "light"
     },
     "output_type": "display_data"
    }
   ],
   "source": [
    "xQ = []\n",
    "yQ = []\n",
    "for key, value in Q.items():\n",
    "    xQ += [key]\n",
    "    yQ += [max(value)]\n",
    "plt.scatter(xQ,yQ)"
   ]
  },
  {
   "cell_type": "code",
   "execution_count": 13,
   "metadata": {},
   "outputs": [
    {
     "data": {
      "text/plain": [
       "<matplotlib.collections.PathCollection at 0x29d2cebad48>"
      ]
     },
     "execution_count": 13,
     "metadata": {},
     "output_type": "execute_result"
    },
    {
     "data": {
      "image/png": "[encoded data removed]",
      "text/plain": [
       "<Figure size 432x288 with 1 Axes>"
      ]
     },
     "metadata": {
      "needs_background": "light"
     },
     "output_type": "display_data"
    }
   ],
   "source": [
    "xQ = []\n",
    "yQ = []\n",
    "for key, value in Q.items():\n",
    "    xQ += [\"{0:b}\".format(key).count(\"1\")]\n",
    "    yQ += [max(value)]\n",
    "plt.scatter(xQ,yQ)"
   ]
  },
  {
   "cell_type": "code",
   "execution_count": 14,
   "metadata": {},
   "outputs": [
    {
     "name": "stdout",
     "output_type": "stream",
     "text": [
      "step count 1\n",
      "aHand defaultdict(<class 'int'>, {1: 0, 2: 0, 3: 1, 4: 0, 5: 1, 6: 0, 7: 0, 8: 0, 9: 2, 10: 3, 11: 1, 12: 0, 13: 0})\n",
      "cHand defaultdict(<class 'int'>, {1: 1, 2: 1, 3: 0, 4: 0, 5: 0, 6: 1, 7: 0, 8: 0, 9: 1, 10: 0, 11: 2, 12: 1, 13: 0})\n",
      "deck remaining 37\n",
      "book defaultdict(<class 'int'>, {1: 0, 2: 0, 3: 0, 4: 0, 5: 0, 6: 0, 7: 0, 8: 0, 9: 0, 10: 0, 11: 0, 12: 0, 13: 0})\n",
      "score [0, 0]\n",
      "\n",
      "step count 2\n",
      "aHand defaultdict(<class 'int'>, {1: 1, 2: 0, 3: 1, 4: 0, 5: 1, 6: 0, 7: 0, 8: 0, 9: 2, 10: 3, 11: 1, 12: 0, 13: 0})\n",
      "cHand defaultdict(<class 'int'>, {1: 0, 2: 1, 3: 0, 4: 1, 5: 0, 6: 1, 7: 0, 8: 0, 9: 1, 10: 0, 11: 2, 12: 1, 13: 0})\n",
      "deck remaining 36\n",
      "book defaultdict(<class 'int'>, {1: 0, 2: 0, 3: 0, 4: 0, 5: 0, 6: 0, 7: 0, 8: 0, 9: 0, 10: 0, 11: 0, 12: 0, 13: 0})\n",
      "score [0, 0]\n",
      "\n",
      "step count 3\n",
      "aHand defaultdict(<class 'int'>, {1: 1, 2: 0, 3: 0, 4: 0, 5: 1, 6: 0, 7: 0, 8: 0, 9: 0, 10: 3, 11: 0, 12: 0, 13: 1})\n",
      "cHand defaultdict(<class 'int'>, {1: 0, 2: 1, 3: 1, 4: 1, 5: 0, 6: 1, 7: 0, 8: 0, 9: 3, 10: 0, 11: 3, 12: 1, 13: 0})\n",
      "deck remaining 35\n",
      "book defaultdict(<class 'int'>, {1: 0, 2: 0, 3: 0, 4: 0, 5: 0, 6: 0, 7: 0, 8: 0, 9: 0, 10: 0, 11: 0, 12: 0, 13: 0})\n",
      "score [0, 0]\n",
      "\n",
      "step count 4\n",
      "aHand defaultdict(<class 'int'>, {1: 1, 2: 0, 3: 0, 4: 0, 5: 2, 6: 0, 7: 0, 8: 0, 9: 0, 10: 3, 11: 0, 12: 0, 13: 1})\n",
      "cHand defaultdict(<class 'int'>, {1: 0, 2: 1, 3: 1, 4: 1, 5: 0, 6: 1, 7: 0, 8: 0, 9: 3, 10: 0, 11: 3, 12: 2, 13: 0})\n",
      "deck remaining 33\n",
      "book defaultdict(<class 'int'>, {1: 0, 2: 0, 3: 0, 4: 0, 5: 0, 6: 0, 7: 0, 8: 0, 9: 0, 10: 0, 11: 0, 12: 0, 13: 0})\n",
      "score [0, 0]\n",
      "\n",
      "step count 5\n",
      "aHand defaultdict(<class 'int'>, {1: 1, 2: 0, 3: 0, 4: 0, 5: 0, 6: 1, 7: 0, 8: 0, 9: 0, 10: 3, 11: 0, 12: 0, 13: 1})\n",
      "cHand defaultdict(<class 'int'>, {1: 0, 2: 1, 3: 1, 4: 1, 5: 2, 6: 1, 7: 0, 8: 0, 9: 3, 10: 0, 11: 3, 12: 2, 13: 0})\n",
      "deck remaining 32\n",
      "book defaultdict(<class 'int'>, {1: 0, 2: 0, 3: 0, 4: 0, 5: 0, 6: 0, 7: 0, 8: 0, 9: 0, 10: 0, 11: 0, 12: 0, 13: 0})\n",
      "score [0, 0]\n",
      "\n",
      "step count 6\n",
      "aHand defaultdict(<class 'int'>, {1: 1, 2: 0, 3: 0, 4: 1, 5: 0, 6: 1, 7: 0, 8: 0, 9: 3, 10: 0, 11: 3, 12: 0, 13: 1})\n",
      "cHand defaultdict(<class 'int'>, {1: 0, 2: 1, 3: 1, 4: 0, 5: 2, 6: 1, 7: 0, 8: 0, 9: 0, 10: 3, 11: 0, 12: 2, 13: 0})\n",
      "deck remaining 32\n",
      "book defaultdict(<class 'int'>, {1: 0, 2: 0, 3: 0, 4: 0, 5: 0, 6: 0, 7: 0, 8: 0, 9: 0, 10: 0, 11: 0, 12: 0, 13: 0})\n",
      "score [0, 0]\n",
      "\n",
      "step count 7\n",
      "aHand defaultdict(<class 'int'>, {1: 0, 2: 0, 3: 0, 4: 1, 5: 0, 6: 1, 7: 0, 8: 0, 9: 0, 10: 0, 11: 3, 12: 0, 13: 0})\n",
      "cHand defaultdict(<class 'int'>, {1: 1, 2: 1, 3: 1, 4: 0, 5: 2, 6: 1, 7: 0, 8: 0, 9: 0, 10: 3, 11: 0, 12: 2, 13: 1})\n",
      "deck remaining 31\n",
      "book defaultdict(<class 'int'>, {1: 0, 2: 0, 3: 0, 4: 0, 5: 0, 6: 0, 7: 0, 8: 0, 9: 1, 10: 0, 11: 0, 12: 0, 13: 0})\n",
      "score [1, 0]\n",
      "\n",
      "step count 8\n",
      "aHand defaultdict(<class 'int'>, {1: 0, 2: 0, 3: 0, 4: 1, 5: 0, 6: 1, 7: 0, 8: 1, 9: 0, 10: 0, 11: 3, 12: 0, 13: 0})\n",
      "cHand defaultdict(<class 'int'>, {1: 1, 2: 1, 3: 1, 4: 0, 5: 2, 6: 1, 7: 0, 8: 0, 9: 0, 10: 3, 11: 0, 12: 2, 13: 2})\n",
      "deck remaining 29\n",
      "book defaultdict(<class 'int'>, {1: 0, 2: 0, 3: 0, 4: 0, 5: 0, 6: 0, 7: 0, 8: 0, 9: 1, 10: 0, 11: 0, 12: 0, 13: 0})\n",
      "score [1, 0]\n",
      "\n",
      "step count 9\n",
      "aHand defaultdict(<class 'int'>, {1: 0, 2: 0, 3: 0, 4: 1, 5: 0, 6: 2, 7: 0, 8: 1, 9: 0, 10: 0, 11: 0, 12: 0, 13: 0})\n",
      "cHand defaultdict(<class 'int'>, {1: 1, 2: 1, 3: 1, 4: 0, 5: 2, 6: 1, 7: 0, 8: 0, 9: 0, 10: 3, 11: 3, 12: 2, 13: 2})\n",
      "deck remaining 28\n",
      "book defaultdict(<class 'int'>, {1: 0, 2: 0, 3: 0, 4: 0, 5: 0, 6: 0, 7: 0, 8: 0, 9: 1, 10: 0, 11: 0, 12: 0, 13: 0})\n",
      "score [1, 0]\n",
      "\n",
      "step count 10\n",
      "aHand defaultdict(<class 'int'>, {1: 0, 2: 0, 3: 0, 4: 1, 5: 0, 6: 2, 7: 0, 8: 1, 9: 0, 10: 0, 11: 3, 12: 2, 13: 0})\n",
      "cHand defaultdict(<class 'int'>, {1: 1, 2: 1, 3: 1, 4: 0, 5: 2, 6: 1, 7: 0, 8: 0, 9: 0, 10: 3, 11: 0, 12: 0, 13: 3})\n",
      "deck remaining 27\n",
      "book defaultdict(<class 'int'>, {1: 0, 2: 0, 3: 0, 4: 0, 5: 0, 6: 0, 7: 0, 8: 0, 9: 1, 10: 0, 11: 0, 12: 0, 13: 0})\n",
      "score [1, 0]\n",
      "\n",
      "step count 11\n",
      "aHand defaultdict(<class 'int'>, {1: 0, 2: 1, 3: 0, 4: 1, 5: 0, 6: 2, 7: 0, 8: 1, 9: 0, 10: 0, 11: 3, 12: 2, 13: 0})\n",
      "cHand defaultdict(<class 'int'>, {1: 2, 2: 0, 3: 1, 4: 0, 5: 2, 6: 1, 7: 0, 8: 0, 9: 0, 10: 3, 11: 0, 12: 0, 13: 3})\n",
      "deck remaining 26\n",
      "book defaultdict(<class 'int'>, {1: 0, 2: 0, 3: 0, 4: 0, 5: 0, 6: 0, 7: 0, 8: 0, 9: 1, 10: 0, 11: 0, 12: 0, 13: 0})\n",
      "score [1, 0]\n",
      "\n",
      "step count 12\n",
      "aHand defaultdict(<class 'int'>, {1: 0, 2: 1, 3: 0, 4: 1, 5: 0, 6: 2, 7: 0, 8: 1, 9: 0, 10: 0, 11: 3, 12: 2, 13: 1})\n",
      "cHand defaultdict(<class 'int'>, {1: 3, 2: 0, 3: 1, 4: 0, 5: 2, 6: 1, 7: 0, 8: 0, 9: 0, 10: 3, 11: 0, 12: 0, 13: 3})\n",
      "deck remaining 24\n",
      "book defaultdict(<class 'int'>, {1: 0, 2: 0, 3: 0, 4: 0, 5: 0, 6: 0, 7: 0, 8: 0, 9: 1, 10: 0, 11: 0, 12: 0, 13: 0})\n",
      "score [1, 0]\n",
      "\n",
      "step count 13\n",
      "aHand defaultdict(<class 'int'>, {1: 3, 2: 1, 3: 0, 4: 0, 5: 0, 6: 3, 7: 0, 8: 0, 9: 0, 10: 3, 11: 0, 12: 2, 13: 0})\n",
      "cHand defaultdict(<class 'int'>, {1: 0, 2: 0, 3: 1, 4: 1, 5: 2, 6: 0, 7: 0, 8: 1, 9: 0, 10: 0, 11: 3, 12: 0, 13: 0})\n",
      "deck remaining 24\n",
      "book defaultdict(<class 'int'>, {1: 0, 2: 0, 3: 0, 4: 0, 5: 0, 6: 0, 7: 0, 8: 0, 9: 1, 10: 0, 11: 0, 12: 0, 13: 1})\n",
      "score [1, 1]\n",
      "\n",
      "step count 14\n",
      "aHand defaultdict(<class 'int'>, {1: 3, 2: 1, 3: 0, 4: 0, 5: 0, 6: 0, 7: 0, 8: 0, 9: 0, 10: 0, 11: 0, 12: 3, 13: 0})\n",
      "cHand defaultdict(<class 'int'>, {1: 0, 2: 0, 3: 1, 4: 1, 5: 2, 6: 3, 7: 0, 8: 1, 9: 0, 10: 3, 11: 3, 12: 0, 13: 0})\n",
      "deck remaining 23\n",
      "book defaultdict(<class 'int'>, {1: 0, 2: 0, 3: 0, 4: 0, 5: 0, 6: 0, 7: 0, 8: 0, 9: 1, 10: 0, 11: 0, 12: 0, 13: 1})\n",
      "score [1, 1]\n",
      "\n",
      "step count 15\n",
      "aHand defaultdict(<class 'int'>, {1: 3, 2: 2, 3: 0, 4: 0, 5: 0, 6: 0, 7: 0, 8: 0, 9: 0, 10: 0, 11: 0, 12: 3, 13: 0})\n",
      "cHand defaultdict(<class 'int'>, {1: 0, 2: 0, 3: 1, 4: 1, 5: 2, 6: 3, 7: 1, 8: 1, 9: 0, 10: 3, 11: 3, 12: 0, 13: 0})\n",
      "deck remaining 21\n",
      "book defaultdict(<class 'int'>, {1: 0, 2: 0, 3: 0, 4: 0, 5: 0, 6: 0, 7: 0, 8: 0, 9: 1, 10: 0, 11: 0, 12: 0, 13: 1})\n",
      "score [1, 1]\n",
      "\n",
      "step count 16\n",
      "aHand defaultdict(<class 'int'>, {1: 3, 2: 2, 3: 0, 4: 0, 5: 0, 6: 0, 7: 0, 8: 0, 9: 0, 10: 0, 11: 0, 12: 3, 13: 0})\n",
      "cHand defaultdict(<class 'int'>, {1: 0, 2: 0, 3: 1, 4: 1, 5: 3, 6: 3, 7: 1, 8: 1, 9: 0, 10: 3, 11: 3, 12: 0, 13: 0})\n",
      "deck remaining 20\n",
      "book defaultdict(<class 'int'>, {1: 0, 2: 0, 3: 0, 4: 0, 5: 0, 6: 0, 7: 0, 8: 0, 9: 1, 10: 0, 11: 0, 12: 0, 13: 1})\n",
      "score [1, 1]\n",
      "\n",
      "step count 17\n",
      "aHand defaultdict(<class 'int'>, {1: 3, 2: 2, 3: 0, 4: 0, 5: 0, 6: 0, 7: 0, 8: 1, 9: 0, 10: 0, 11: 0, 12: 3, 13: 0})\n",
      "cHand defaultdict(<class 'int'>, {1: 0, 2: 0, 3: 1, 4: 1, 5: 3, 6: 3, 7: 2, 8: 1, 9: 0, 10: 3, 11: 3, 12: 0, 13: 0})\n",
      "deck remaining 18\n",
      "book defaultdict(<class 'int'>, {1: 0, 2: 0, 3: 0, 4: 0, 5: 0, 6: 0, 7: 0, 8: 0, 9: 1, 10: 0, 11: 0, 12: 0, 13: 1})\n",
      "score [1, 1]\n",
      "\n",
      "step count 18\n",
      "aHand defaultdict(<class 'int'>, {1: 3, 2: 2, 3: 1, 4: 0, 5: 0, 6: 0, 7: 0, 8: 1, 9: 0, 10: 0, 11: 0, 12: 3, 13: 0})\n",
      "cHand defaultdict(<class 'int'>, {1: 1, 2: 0, 3: 0, 4: 1, 5: 3, 6: 3, 7: 2, 8: 1, 9: 0, 10: 3, 11: 3, 12: 0, 13: 0})\n",
      "deck remaining 17\n",
      "book defaultdict(<class 'int'>, {1: 0, 2: 0, 3: 0, 4: 0, 5: 0, 6: 0, 7: 0, 8: 0, 9: 1, 10: 0, 11: 0, 12: 0, 13: 1})\n",
      "score [1, 1]\n",
      "\n",
      "step count 19\n",
      "aHand defaultdict(<class 'int'>, {1: 3, 2: 2, 3: 2, 4: 0, 5: 0, 6: 0, 7: 0, 8: 0, 9: 0, 10: 0, 11: 0, 12: 3, 13: 0})\n",
      "cHand defaultdict(<class 'int'>, {1: 1, 2: 0, 3: 0, 4: 1, 5: 3, 6: 3, 7: 2, 8: 2, 9: 0, 10: 3, 11: 3, 12: 0, 13: 0})\n",
      "deck remaining 16\n",
      "book defaultdict(<class 'int'>, {1: 0, 2: 0, 3: 0, 4: 0, 5: 0, 6: 0, 7: 0, 8: 0, 9: 1, 10: 0, 11: 0, 12: 0, 13: 1})\n",
      "score [1, 1]\n",
      "\n",
      "step count 20\n",
      "aHand defaultdict(<class 'int'>, {1: 3, 2: 2, 3: 2, 4: 0, 5: 0, 6: 0, 7: 0, 8: 0, 9: 0, 10: 1, 11: 0, 12: 3, 13: 0})\n",
      "cHand defaultdict(<class 'int'>, {1: 1, 2: 0, 3: 0, 4: 1, 5: 3, 6: 3, 7: 3, 8: 2, 9: 0, 10: 3, 11: 3, 12: 0, 13: 0})\n",
      "deck remaining 14\n",
      "book defaultdict(<class 'int'>, {1: 0, 2: 0, 3: 0, 4: 0, 5: 0, 6: 0, 7: 0, 8: 0, 9: 1, 10: 0, 11: 0, 12: 0, 13: 1})\n",
      "score [1, 1]\n",
      "\n",
      "step count 21\n",
      "aHand defaultdict(<class 'int'>, {1: 3, 2: 2, 3: 2, 4: 0, 5: 0, 6: 0, 7: 0, 8: 0, 9: 0, 10: 1, 11: 0, 12: 0, 13: 0})\n",
      "cHand defaultdict(<class 'int'>, {1: 1, 2: 0, 3: 0, 4: 1, 5: 3, 6: 3, 7: 0, 8: 2, 9: 0, 10: 3, 11: 3, 12: 3, 13: 0})\n",
      "deck remaining 13\n",
      "book defaultdict(<class 'int'>, {1: 0, 2: 0, 3: 0, 4: 0, 5: 0, 6: 0, 7: 1, 8: 0, 9: 1, 10: 0, 11: 0, 12: 0, 13: 1})\n",
      "score [1, 2]\n",
      "\n",
      "step count 22\n",
      "aHand defaultdict(<class 'int'>, {1: 3, 2: 0, 3: 2, 4: 0, 5: 0, 6: 0, 7: 0, 8: 0, 9: 0, 10: 1, 11: 0, 12: 0, 13: 0})\n",
      "cHand defaultdict(<class 'int'>, {1: 1, 2: 3, 3: 0, 4: 1, 5: 3, 6: 3, 7: 0, 8: 2, 9: 0, 10: 3, 11: 3, 12: 3, 13: 0})\n",
      "deck remaining 12\n",
      "book defaultdict(<class 'int'>, {1: 0, 2: 0, 3: 0, 4: 0, 5: 0, 6: 0, 7: 1, 8: 0, 9: 1, 10: 0, 11: 0, 12: 0, 13: 1})\n",
      "score [1, 2]\n",
      "\n",
      "step count 23\n",
      "aHand defaultdict(<class 'int'>, {1: 3, 2: 0, 3: 2, 4: 0, 5: 0, 6: 0, 7: 0, 8: 0, 9: 0, 10: 1, 11: 3, 12: 0, 13: 0})\n",
      "cHand defaultdict(<class 'int'>, {1: 1, 2: 3, 3: 0, 4: 1, 5: 3, 6: 3, 7: 0, 8: 2, 9: 0, 10: 3, 11: 0, 12: 3, 13: 0})\n",
      "deck remaining 12\n",
      "book defaultdict(<class 'int'>, {1: 0, 2: 0, 3: 0, 4: 0, 5: 0, 6: 0, 7: 1, 8: 0, 9: 1, 10: 0, 11: 0, 12: 0, 13: 1})\n",
      "score [1, 2]\n",
      "\n",
      "step count 24\n",
      "aHand defaultdict(<class 'int'>, {1: 0, 2: 0, 3: 0, 4: 0, 5: 0, 6: 0, 7: 0, 8: 0, 9: 0, 10: 1, 11: 3, 12: 0, 13: 0})\n",
      "cHand defaultdict(<class 'int'>, {1: 0, 2: 3, 3: 2, 4: 1, 5: 3, 6: 3, 7: 0, 8: 2, 9: 0, 10: 3, 11: 0, 12: 3, 13: 0})\n",
      "deck remaining 12\n",
      "book defaultdict(<class 'int'>, {1: 1, 2: 0, 3: 0, 4: 0, 5: 0, 6: 0, 7: 1, 8: 0, 9: 1, 10: 0, 11: 0, 12: 0, 13: 1})\n",
      "score [2, 2]\n",
      "\n",
      "step count 25\n",
      "aHand defaultdict(<class 'int'>, {1: 0, 2: 0, 3: 0, 4: 0, 5: 3, 6: 3, 7: 0, 8: 0, 9: 0, 10: 1, 11: 3, 12: 0, 13: 0})\n",
      "cHand defaultdict(<class 'int'>, {1: 0, 2: 3, 3: 2, 4: 2, 5: 0, 6: 0, 7: 0, 8: 2, 9: 0, 10: 3, 11: 0, 12: 3, 13: 0})\n",
      "deck remaining 11\n",
      "book defaultdict(<class 'int'>, {1: 1, 2: 0, 3: 0, 4: 0, 5: 0, 6: 0, 7: 1, 8: 0, 9: 1, 10: 0, 11: 0, 12: 0, 13: 1})\n",
      "score [2, 2]\n",
      "\n",
      "step count 26\n",
      "aHand defaultdict(<class 'int'>, {1: 0, 2: 0, 3: 0, 4: 0, 5: 3, 6: 3, 7: 0, 8: 1, 9: 0, 10: 1, 11: 3, 12: 0, 13: 0})\n",
      "cHand defaultdict(<class 'int'>, {1: 0, 2: 3, 3: 2, 4: 2, 5: 0, 6: 0, 7: 0, 8: 2, 9: 0, 10: 3, 11: 1, 12: 3, 13: 0})\n",
      "deck remaining 9\n",
      "book defaultdict(<class 'int'>, {1: 1, 2: 0, 3: 0, 4: 0, 5: 0, 6: 0, 7: 1, 8: 0, 9: 1, 10: 0, 11: 0, 12: 0, 13: 1})\n",
      "score [2, 2]\n",
      "\n",
      "step count 27\n",
      "aHand defaultdict(<class 'int'>, {1: 0, 2: 3, 3: 0, 4: 0, 5: 3, 6: 0, 7: 0, 8: 1, 9: 0, 10: 1, 11: 3, 12: 0, 13: 0})\n",
      "cHand defaultdict(<class 'int'>, {1: 0, 2: 0, 3: 2, 4: 2, 5: 0, 6: 3, 7: 0, 8: 2, 9: 0, 10: 3, 11: 1, 12: 3, 13: 0})\n",
      "deck remaining 9\n",
      "book defaultdict(<class 'int'>, {1: 1, 2: 0, 3: 0, 4: 0, 5: 0, 6: 0, 7: 1, 8: 0, 9: 1, 10: 0, 11: 0, 12: 0, 13: 1})\n",
      "score [2, 2]\n",
      "\n",
      "step count 28\n",
      "aHand defaultdict(<class 'int'>, {1: 0, 2: 3, 3: 0, 4: 0, 5: 3, 6: 0, 7: 0, 8: 0, 9: 0, 10: 1, 11: 0, 12: 3, 13: 0})\n",
      "cHand defaultdict(<class 'int'>, {1: 0, 2: 0, 3: 2, 4: 2, 5: 0, 6: 3, 7: 0, 8: 3, 9: 0, 10: 3, 11: 0, 12: 0, 13: 0})\n",
      "deck remaining 9\n",
      "book defaultdict(<class 'int'>, {1: 1, 2: 0, 3: 0, 4: 0, 5: 0, 6: 0, 7: 1, 8: 0, 9: 1, 10: 0, 11: 1, 12: 0, 13: 1})\n",
      "score [2, 3]\n",
      "\n",
      "step count 29\n",
      "aHand defaultdict(<class 'int'>, {1: 0, 2: 3, 3: 2, 4: 0, 5: 0, 6: 0, 7: 0, 8: 0, 9: 0, 10: 0, 11: 0, 12: 3, 13: 0})\n",
      "cHand defaultdict(<class 'int'>, {1: 0, 2: 0, 3: 0, 4: 2, 5: 3, 6: 3, 7: 0, 8: 3, 9: 0, 10: 0, 11: 0, 12: 0, 13: 0})\n",
      "deck remaining 9\n",
      "book defaultdict(<class 'int'>, {1: 1, 2: 0, 3: 0, 4: 0, 5: 0, 6: 0, 7: 1, 8: 0, 9: 1, 10: 1, 11: 1, 12: 0, 13: 1})\n",
      "score [2, 4]\n",
      "\n",
      "step count 30\n",
      "aHand defaultdict(<class 'int'>, {1: 0, 2: 3, 3: 2, 4: 0, 5: 0, 6: 0, 7: 0, 8: 0, 9: 0, 10: 0, 11: 0, 12: 0, 13: 0})\n",
      "cHand defaultdict(<class 'int'>, {1: 0, 2: 0, 3: 0, 4: 2, 5: 3, 6: 3, 7: 0, 8: 0, 9: 0, 10: 0, 11: 0, 12: 0, 13: 0})\n",
      "deck remaining 7\n",
      "book defaultdict(<class 'int'>, {1: 1, 2: 0, 3: 0, 4: 0, 5: 0, 6: 0, 7: 1, 8: 1, 9: 1, 10: 1, 11: 1, 12: 1, 13: 1})\n",
      "score [3, 5]\n",
      "\n",
      "step count 31\n",
      "aHand defaultdict(<class 'int'>, {1: 0, 2: 0, 3: 2, 4: 0, 5: 0, 6: 0, 7: 0, 8: 0, 9: 0, 10: 0, 11: 0, 12: 0, 13: 0})\n",
      "cHand defaultdict(<class 'int'>, {1: 0, 2: 0, 3: 0, 4: 2, 5: 3, 6: 0, 7: 0, 8: 0, 9: 0, 10: 0, 11: 0, 12: 0, 13: 0})\n",
      "deck remaining 5\n",
      "book defaultdict(<class 'int'>, {1: 1, 2: 1, 3: 0, 4: 0, 5: 0, 6: 1, 7: 1, 8: 1, 9: 1, 10: 1, 11: 1, 12: 1, 13: 1})\n",
      "score [4, 6]\n",
      "\n",
      "step count 32\n",
      "aHand defaultdict(<class 'int'>, {1: 0, 2: 0, 3: 0, 4: 0, 5: 0, 6: 0, 7: 0, 8: 0, 9: 0, 10: 0, 11: 0, 12: 0, 13: 0})\n",
      "cHand defaultdict(<class 'int'>, {1: 0, 2: 0, 3: 3, 4: 2, 5: 3, 6: 0, 7: 0, 8: 0, 9: 0, 10: 0, 11: 0, 12: 0, 13: 0})\n",
      "deck remaining 4\n",
      "book defaultdict(<class 'int'>, {1: 1, 2: 1, 3: 0, 4: 0, 5: 0, 6: 1, 7: 1, 8: 1, 9: 1, 10: 1, 11: 1, 12: 1, 13: 1})\n",
      "score [4, 6]\n",
      "\n",
      "step count 33\n",
      "aHand defaultdict(<class 'int'>, {1: 0, 2: 0, 3: 0, 4: 0, 5: 1, 6: 0, 7: 0, 8: 0, 9: 0, 10: 0, 11: 0, 12: 0, 13: 0})\n",
      "cHand defaultdict(<class 'int'>, {1: 0, 2: 0, 3: 0, 4: 2, 5: 3, 6: 0, 7: 0, 8: 0, 9: 0, 10: 0, 11: 0, 12: 0, 13: 0})\n",
      "deck remaining 2\n",
      "book defaultdict(<class 'int'>, {1: 1, 2: 1, 3: 1, 4: 0, 5: 0, 6: 1, 7: 1, 8: 1, 9: 1, 10: 1, 11: 1, 12: 1, 13: 1})\n",
      "score [4, 7]\n",
      "\n",
      "step count 34\n",
      "aHand defaultdict(<class 'int'>, {1: 0, 2: 0, 3: 0, 4: 0, 5: 0, 6: 0, 7: 0, 8: 0, 9: 0, 10: 0, 11: 0, 12: 0, 13: 0})\n",
      "cHand defaultdict(<class 'int'>, {1: 0, 2: 0, 3: 0, 4: 2, 5: 0, 6: 0, 7: 0, 8: 0, 9: 0, 10: 0, 11: 0, 12: 0, 13: 0})\n",
      "deck remaining 2\n",
      "book defaultdict(<class 'int'>, {1: 1, 2: 1, 3: 1, 4: 0, 5: 1, 6: 1, 7: 1, 8: 1, 9: 1, 10: 1, 11: 1, 12: 1, 13: 1})\n",
      "score [4, 8]\n",
      "\n",
      "step count 35\n",
      "aHand defaultdict(<class 'int'>, {1: 0, 2: 0, 3: 0, 4: 0, 5: 0, 6: 0, 7: 0, 8: 0, 9: 0, 10: 0, 11: 0, 12: 0, 13: 0})\n",
      "cHand defaultdict(<class 'int'>, {1: 0, 2: 0, 3: 0, 4: 0, 5: 0, 6: 0, 7: 0, 8: 0, 9: 0, 10: 0, 11: 0, 12: 0, 13: 0})\n",
      "deck remaining 0\n",
      "book defaultdict(<class 'int'>, {1: 1, 2: 1, 3: 1, 4: 1, 5: 1, 6: 1, 7: 1, 8: 1, 9: 1, 10: 1, 11: 1, 12: 1, 13: 1})\n",
      "score [4, 9]\n",
      "\n"
     ]
    }
   ],
   "source": [
    "# example of step action log, reward for all steps are 0 except for the end, of which due to the loss is -1\n",
    "g = game()\n",
    "g.reset()\n",
    "while not g.gameOver():\n",
    "    g.step()\n",
    "    g.debug()\n",
    "    print(\"\")"
   ]
  },
  {
   "cell_type": "code",
   "execution_count": 41,
   "metadata": {},
   "outputs": [],
   "source": [
    "def compress(list): # takes the average of every group of 10 elements in a list \n",
    "    c = []\n",
    "    for i in range(0,len(list),10):\n",
    "        c += [np.average(list[i:i+10])]\n",
    "    return c"
   ]
  },
  {
   "cell_type": "code",
   "execution_count": 45,
   "metadata": {},
   "outputs": [
    {
     "data": {
      "text/plain": [
       "[<matplotlib.lines.Line2D at 0x29d31c0f2c8>]"
      ]
     },
     "execution_count": 45,
     "metadata": {},
     "output_type": "execute_result"
    },
    {
     "data": {
      "image/png": "[encoded data removed]",
      "text/plain": [
       "<Figure size 432x288 with 1 Axes>"
      ]
     },
     "metadata": {
      "needs_background": "light"
     },
     "output_type": "display_data"
    }
   ],
   "source": [
    "xscore = [i for i,j in scores[1::10]]\n",
    "yscore = [j for i,j in scores]\n",
    "plt.plot(xscore,compress(yscore))\n",
    "#plt.xscale('log',basex=10)"
   ]
  },
  {
   "cell_type": "code",
   "execution_count": 15,
   "metadata": {},
   "outputs": [],
   "source": [
    "w = csv.writer(open(\"policyC.csv\", \"w\"))\n",
    "for key, val in policy.items():\n",
    "    w.writerow([key, val])"
   ]
  },
  {
   "cell_type": "code",
   "execution_count": 16,
   "metadata": {},
   "outputs": [],
   "source": [
    "w = csv.writer(open(\"QC.csv\", \"w\"))\n",
    "for key, val in Q.items():\n",
    "    w.writerow([key, val])"
   ]
  },
  {
   "cell_type": "code",
   "execution_count": 17,
   "metadata": {},
   "outputs": [],
   "source": [
    "w = csv.writer(open(\"scoreC.csv\", \"w\"))\n",
    "for x in scores:\n",
    "    w.writerow([x[0], x[1]])"
   ]
  }
 ],
 "metadata": {
  "kernelspec": {
   "display_name": "Python 3",
   "language": "python",
   "name": "python3"
  },
  "language_info": {
   "codemirror_mode": {
    "name": "ipython",
    "version": 3
   },
   "file_extension": ".py",
   "mimetype": "text/x-python",
   "name": "python",
   "nbconvert_exporter": "python",
   "pygments_lexer": "ipython3",
   "version": "3.7.9"
  }
 },
 "nbformat": 4,
 "nbformat_minor": 4
}
